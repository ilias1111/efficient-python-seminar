{
  "nbformat": 4,
  "nbformat_minor": 0,
  "metadata": {
    "colab": {
      "provenance": []
    },
    "kernelspec": {
      "name": "python3",
      "display_name": "Python 3"
    }
  },
  "cells": [
    {
      "cell_type": "code",
      "metadata": {
        "id": "LoMwPs65MabW"
      },
      "source": [
        "import numpy as np\n",
        "import time\n",
        "import random\n",
        "import pandas as pd"
      ],
      "execution_count": null,
      "outputs": []
    },
    {
      "cell_type": "code",
      "metadata": {
        "id": "Nw7B5yv0NB-L"
      },
      "source": [
        "N = 100000000\n",
        "N = 100000000"
      ],
      "execution_count": null,
      "outputs": []
    },
    {
      "cell_type": "code",
      "metadata": {
        "id": "-GNpNtwYeyns"
      },
      "source": [
        "def list_creation_a(n):\n",
        "    \n",
        "    sum = []\n",
        "\n",
        "    for i in range(0,n):\n",
        "        sum.append(i**2)\n",
        "\n",
        "    return sum"
      ],
      "execution_count": null,
      "outputs": []
    },
    {
      "cell_type": "code",
      "metadata": {
        "id": "lMqAcv1HfDdr"
      },
      "source": [
        "def list_creation_b(n):\n",
        "    \n",
        "    return [i**2 for i in range(0,n)]"
      ],
      "execution_count": null,
      "outputs": []
    },
    {
      "cell_type": "code",
      "metadata": {
        "id": "unUQ66bp9dnr"
      },
      "source": [
        "def list_creation_c(n):\n",
        "    \n",
        "    return np.arange(n) ** 2"
      ],
      "execution_count": null,
      "outputs": []
    },
    {
      "cell_type": "code",
      "metadata": {
        "id": "Wspgz0Jx20e2"
      },
      "source": [
        "def sum_list_A1(lista):\n",
        "\n",
        "    sum = 0\n",
        "\n",
        "    for i in range(0,len(lista)):\n",
        "\n",
        "        sum = sum + lista[i]\n",
        "\n",
        "    return sum"
      ],
      "execution_count": null,
      "outputs": []
    },
    {
      "cell_type": "code",
      "metadata": {
        "id": "1EoHkssjgods"
      },
      "source": [
        "def sum_list_A2(lista):\n",
        "\n",
        "    sum = 0\n",
        "\n",
        "    for i in lista:\n",
        "\n",
        "        sum = sum + i\n",
        "\n",
        "    return sum"
      ],
      "execution_count": null,
      "outputs": []
    },
    {
      "cell_type": "code",
      "metadata": {
        "id": "bHXezVi9gjDq"
      },
      "source": [
        "def sum_list_B1(lista):\n",
        "\n",
        "    return sum(lista)"
      ],
      "execution_count": null,
      "outputs": []
    },
    {
      "cell_type": "code",
      "metadata": {
        "id": "5_B52DpE9kdS"
      },
      "source": [
        "def sum_list_B2(lista):\n",
        "\n",
        "    return np.sum(lista)"
      ],
      "execution_count": null,
      "outputs": []
    },
    {
      "cell_type": "code",
      "metadata": {
        "id": "KrCQCPdxM6PX"
      },
      "source": [
        "def is_inside_python_1(n):\n",
        "\n",
        "    count = 0\n",
        "    for i in range(n):\n",
        "        x = random.random()\n",
        "        y = random.random()\n",
        "        if x*x + y*y < 1:\n",
        "            count += 1\n",
        "            \n",
        "    return count"
      ],
      "execution_count": null,
      "outputs": []
    },
    {
      "cell_type": "code",
      "metadata": {
        "id": "-WmY8xFEL4dy"
      },
      "source": [
        "def is_inside_python_2(n):\n",
        "\n",
        "    return sum([1 for i in range(n) if (random.random()**2 + random.random()**2) < 1])"
      ],
      "execution_count": null,
      "outputs": []
    },
    {
      "cell_type": "code",
      "metadata": {
        "id": "X_FtYoz-RQli"
      },
      "source": [
        "def is_inside_pandas_1(n):\n",
        "\n",
        "    df = pd.DataFrame(np.random.uniform(0,1, size=(N, 2)), columns=list('XY'))\n",
        "\n",
        "    sum = 0\n",
        "    for i in range(0,len(df)):\n",
        "\n",
        "        if (df.iloc[i]['X'] ** 2 + df.iloc[i]['Y'] ** 2 < 1 ):\n",
        "\n",
        "            sum = sum + 1\n",
        "\n",
        "    return sum"
      ],
      "execution_count": null,
      "outputs": []
    },
    {
      "cell_type": "code",
      "metadata": {
        "id": "I0uPppRDNHl5"
      },
      "source": [
        "def is_inside_pandas_2(n):\n",
        "\n",
        "    df = pd.DataFrame(np.random.uniform(0,1, size=(N, 2)), columns=list('XY'))\n",
        "\n",
        "    df.loc[(df['X'] ** 2 + df['Y'] ** 2 < 1),  'V'] = 1\n",
        "\n",
        "    return df['V'].sum()"
      ],
      "execution_count": null,
      "outputs": []
    },
    {
      "cell_type": "code",
      "metadata": {
        "id": "cErqTr8oRrtX"
      },
      "source": [
        "def is_inside_numpy_1(n):\n",
        "\n",
        "    x = np.random.uniform(0,1, size=(n, 1))\n",
        "    y = np.random.uniform(0,1, size=(n, 1))\n",
        "\n",
        "    return np.where(x**2 + y**2 < 1, 1, 0 ).sum()"
      ],
      "execution_count": null,
      "outputs": []
    },
    {
      "cell_type": "code",
      "metadata": {
        "id": "xibLYZlPsd--"
      },
      "source": [
        "def is_inside_numpy_2(n):\n",
        "\n",
        "    rng = np.random.default_rng() #proper generator\n",
        "    x = rng.random(size=(n, 1), dtype='float32')\n",
        "    y = rng.random(size=(n, 1), dtype='float32')\n",
        "\n",
        "    return np.where(x**2 + y**2 < 1, 1, 0 ).sum()"
      ],
      "execution_count": null,
      "outputs": []
    },
    {
      "cell_type": "code",
      "metadata": {
        "id": "wQkjL0qBgtca"
      },
      "source": [
        "def is_inside_numpy_3(n):\n",
        "\n",
        "    rng = np.random.default_rng()\n",
        "    x = rng.random(size=(n, 1), dtype='float32')\n",
        "    y = rng.random(size=(n, 1), dtype='float32')\n",
        "    nsuccesses = x**2 + y**2 < 1\n",
        "\n",
        "    return  nsuccesses.sum()"
      ],
      "execution_count": null,
      "outputs": []
    },
    {
      "cell_type": "code",
      "metadata": {
        "id": "D0lS6bxAvzSk"
      },
      "source": [
        "import multiprocessing\n",
        "from multiprocessing import Pool"
      ],
      "execution_count": null,
      "outputs": []
    },
    {
      "cell_type": "code",
      "metadata": {
        "id": "suYzpTL_vF4F"
      },
      "source": [
        "def is_inside_python_parallel(n):\n",
        "\n",
        "    np = multiprocessing.cpu_count()\n",
        "    part_count=[int(n/np) for i in range(np)]\n",
        "\n",
        "    with Pool(processes=4) as pool:\n",
        "        count = pool.map(is_inside_python_1, part_count)\n",
        "\n",
        "    return sum(count)"
      ],
      "execution_count": null,
      "outputs": []
    },
    {
      "cell_type": "code",
      "metadata": {
        "id": "4XfLd5j7M6FZ"
      },
      "source": [
        "def is_inside_numpy_parallel(n):\n",
        "\n",
        "    np = multiprocessing.cpu_count()\n",
        "    part_count = [int(n/np) for i in range(np)]\n",
        "\n",
        "    with Pool(processes=4) as pool:\n",
        "        count = pool.map(is_inside_numpy_3, part_count)\n",
        "\n",
        "    return sum(count)"
      ],
      "execution_count": null,
      "outputs": []
    },
    {
      "cell_type": "code",
      "metadata": {
        "colab": {
          "base_uri": "https://localhost:8080/"
        },
        "id": "uAJ63bVAyBiq",
        "outputId": "bdc442b8-0352-4f55-ee67-196230c9a169"
      },
      "source": [
        "is_inside_python_parallel(N)"
      ],
      "execution_count": null,
      "outputs": [
        {
          "output_type": "execute_result",
          "data": {
            "text/plain": [
              "785056"
            ]
          },
          "metadata": {
            "tags": []
          },
          "execution_count": 34
        }
      ]
    },
    {
      "cell_type": "code",
      "metadata": {
        "colab": {
          "base_uri": "https://localhost:8080/"
        },
        "id": "7htAoSZAyIhE",
        "outputId": "08f66e16-06e7-4828-c936-7aeb4fcac681"
      },
      "source": [
        "%%timeit\n",
        "is_inside_python_parallel(N)"
      ],
      "execution_count": null,
      "outputs": [
        {
          "output_type": "stream",
          "text": [
            "1 loop, best of 5: 39.9 s per loop\n"
          ],
          "name": "stdout"
        }
      ]
    },
    {
      "cell_type": "code",
      "metadata": {
        "id": "Bp2optLlQzKu"
      },
      "source": [
        "################################################################################"
      ],
      "execution_count": null,
      "outputs": []
    },
    {
      "cell_type": "code",
      "metadata": {
        "colab": {
          "base_uri": "https://localhost:8080/"
        },
        "id": "8pcgoEz0fYl9",
        "outputId": "95c6d9d8-3455-4dfa-9b3d-02231b80481e"
      },
      "source": [
        "%%timeit\n",
        "list_creation_a(N)"
      ],
      "execution_count": null,
      "outputs": [
        {
          "output_type": "stream",
          "text": [
            "1 loop, best of 5: 387 ms per loop\n"
          ],
          "name": "stdout"
        }
      ]
    },
    {
      "cell_type": "code",
      "metadata": {
        "colab": {
          "base_uri": "https://localhost:8080/"
        },
        "id": "aZTundDHfZCM",
        "outputId": "1e2ea086-af70-46ed-de31-4df473d542b2"
      },
      "source": [
        "%%timeit\n",
        "list_creation_b(N)"
      ],
      "execution_count": null,
      "outputs": [
        {
          "output_type": "stream",
          "text": [
            "1 loop, best of 5: 370 ms per loop\n"
          ],
          "name": "stdout"
        }
      ]
    },
    {
      "cell_type": "code",
      "metadata": {
        "colab": {
          "base_uri": "https://localhost:8080/"
        },
        "id": "jYzzoo_v9tID",
        "outputId": "49a75cdc-7300-4d4a-f0a7-fc41242e864a"
      },
      "source": [
        "%%timeit\n",
        "list_creation_c(N)"
      ],
      "execution_count": null,
      "outputs": [
        {
          "output_type": "stream",
          "text": [
            "100 loops, best of 5: 5.46 ms per loop\n"
          ],
          "name": "stdout"
        }
      ]
    },
    {
      "cell_type": "code",
      "metadata": {
        "id": "jE3NE--fg1yS"
      },
      "source": [
        "a = list_creation_b(N)"
      ],
      "execution_count": null,
      "outputs": []
    },
    {
      "cell_type": "code",
      "metadata": {
        "id": "4Phd22TH-C7H"
      },
      "source": [
        "c = list_creation_c(N)"
      ],
      "execution_count": null,
      "outputs": []
    },
    {
      "cell_type": "code",
      "metadata": {
        "colab": {
          "base_uri": "https://localhost:8080/"
        },
        "id": "Wg9yy-Uvg4Yz",
        "outputId": "b0605b7d-45da-4b33-a3ad-fc26f18f41ff"
      },
      "source": [
        "%%timeit\n",
        "sum_list_A1(a)"
      ],
      "execution_count": null,
      "outputs": [
        {
          "output_type": "stream",
          "text": [
            "10 loops, best of 5: 92.1 ms per loop\n"
          ],
          "name": "stdout"
        }
      ]
    },
    {
      "cell_type": "code",
      "metadata": {
        "colab": {
          "base_uri": "https://localhost:8080/"
        },
        "id": "2PI6r2Jpg4Y3",
        "outputId": "c0d17016-40a4-4a29-cd90-8c73dbfff3c2"
      },
      "source": [
        "%%timeit\n",
        "sum_list_A2(a)"
      ],
      "execution_count": null,
      "outputs": [
        {
          "output_type": "stream",
          "text": [
            "10 loops, best of 5: 58.1 ms per loop\n"
          ],
          "name": "stdout"
        }
      ]
    },
    {
      "cell_type": "code",
      "metadata": {
        "colab": {
          "base_uri": "https://localhost:8080/"
        },
        "id": "lTqDRsVG3EhD",
        "outputId": "34f7a94f-486c-4969-a424-37071e8dbff2"
      },
      "source": [
        "%%timeit\n",
        "sum_list_B1(a)"
      ],
      "execution_count": null,
      "outputs": [
        {
          "output_type": "stream",
          "text": [
            "100 loops, best of 5: 11.1 ms per loop\n"
          ],
          "name": "stdout"
        }
      ]
    },
    {
      "cell_type": "code",
      "metadata": {
        "colab": {
          "base_uri": "https://localhost:8080/"
        },
        "id": "ZEiOdyRp9vr1",
        "outputId": "9a102fe9-5da8-4222-e549-c7a3ec4503ed"
      },
      "source": [
        "%%timeit\n",
        "sum_list_B2(c)"
      ],
      "execution_count": null,
      "outputs": [
        {
          "output_type": "stream",
          "text": [
            "1000 loops, best of 5: 1.3 ms per loop\n"
          ],
          "name": "stdout"
        }
      ]
    },
    {
      "cell_type": "code",
      "metadata": {
        "id": "UQr1Qk_KohFY"
      },
      "source": [
        "#######################################3"
      ],
      "execution_count": null,
      "outputs": []
    },
    {
      "cell_type": "code",
      "metadata": {
        "colab": {
          "base_uri": "https://localhost:8080/"
        },
        "id": "GX7qMoIYNH7l",
        "outputId": "edcbbb97-029c-4e87-e7be-9de22a11db34"
      },
      "source": [
        "%%timeit\n",
        "is_inside_python_1(N)"
      ],
      "execution_count": null,
      "outputs": [
        {
          "output_type": "stream",
          "text": [
            "1 loop, best of 5: 37.6 s per loop\n"
          ],
          "name": "stdout"
        }
      ]
    },
    {
      "cell_type": "code",
      "metadata": {
        "colab": {
          "base_uri": "https://localhost:8080/"
        },
        "id": "jbR6Hll5NNPL",
        "outputId": "486c6caa-9daf-4fb5-e7c6-b6b819f73a37"
      },
      "source": [
        "%%timeit\n",
        "is_inside_python_2(N)"
      ],
      "execution_count": null,
      "outputs": [
        {
          "output_type": "stream",
          "text": [
            "1 loop, best of 5: 430 ms per loop\n"
          ],
          "name": "stdout"
        }
      ]
    },
    {
      "cell_type": "code",
      "metadata": {
        "colab": {
          "base_uri": "https://localhost:8080/"
        },
        "id": "Omal5806MHvK",
        "outputId": "890b5798-a695-4abe-9ddc-089bacdf0228"
      },
      "source": [
        "%%timeit\n",
        "is_inside_pandas_1(N)"
      ],
      "execution_count": null,
      "outputs": [
        {
          "output_type": "stream",
          "text": [
            "1 loop, best of 5: 2min 39s per loop\n"
          ],
          "name": "stdout"
        }
      ]
    },
    {
      "cell_type": "code",
      "metadata": {
        "colab": {
          "base_uri": "https://localhost:8080/"
        },
        "id": "oggCjOmENj4q",
        "outputId": "66947937-76e9-466a-8c12-59e1ef93890c"
      },
      "source": [
        "%%timeit\n",
        "is_inside_pandas_2(N)"
      ],
      "execution_count": null,
      "outputs": [
        {
          "output_type": "stream",
          "text": [
            "10 loops, best of 5: 77.6 ms per loop\n"
          ],
          "name": "stdout"
        }
      ]
    },
    {
      "cell_type": "code",
      "metadata": {
        "colab": {
          "base_uri": "https://localhost:8080/"
        },
        "id": "-XcCTIg2R1J2",
        "outputId": "ad4b0f83-2d9f-4b1c-c3af-683bb729d8ac"
      },
      "source": [
        "%%timeit\n",
        "is_inside_numpy_1(N)"
      ],
      "execution_count": null,
      "outputs": [
        {
          "output_type": "stream",
          "text": [
            "10 loops, best of 5: 30.7 ms per loop\n"
          ],
          "name": "stdout"
        }
      ]
    },
    {
      "cell_type": "code",
      "metadata": {
        "colab": {
          "base_uri": "https://localhost:8080/"
        },
        "id": "7tosM1ahO7jM",
        "outputId": "d7f519ec-e799-4c04-a651-1565af7d4905"
      },
      "source": [
        "%%timeit\n",
        "is_inside_numpy_2(N)"
      ],
      "execution_count": null,
      "outputs": [
        {
          "output_type": "stream",
          "text": [
            "100 loops, best of 5: 15.6 ms per loop\n"
          ],
          "name": "stdout"
        }
      ]
    },
    {
      "cell_type": "code",
      "metadata": {
        "colab": {
          "base_uri": "https://localhost:8080/"
        },
        "id": "s22A4uxTs3C7",
        "outputId": "6e73f6bf-ca19-400a-b338-2a76503d9c10"
      },
      "source": [
        "%%timeit\n",
        "is_inside_numpy_3(N)"
      ],
      "execution_count": null,
      "outputs": [
        {
          "output_type": "stream",
          "text": [
            "100 loops, best of 5: 12.7 ms per loop\n"
          ],
          "name": "stdout"
        }
      ]
    },
    {
      "cell_type": "code",
      "metadata": {
        "id": "XbcnhuSWs5D1"
      },
      "source": [],
      "execution_count": null,
      "outputs": []
    }
  ]
}